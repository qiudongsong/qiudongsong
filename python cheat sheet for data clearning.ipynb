{
 "cells": [
  {
   "cell_type": "markdown",
   "metadata": {},
   "source": [
    "# read data"
   ]
  },
  {
   "cell_type": "code",
   "execution_count": null,
   "metadata": {},
   "outputs": [],
   "source": [
    "group_raw=pd.read_excel('G:/我的云端硬盘/云蜚科技/新冠项目/group_covid.xlsx')\n",
    "#subgrouping\n",
    "group_sub=group[group['COVID_positive']==1]"
   ]
  },
  {
   "cell_type": "code",
   "execution_count": null,
   "metadata": {},
   "outputs": [],
   "source": [
    "import mysql.connector\n",
    "import pandas as pd\n",
    "\n",
    "# Establish a database connection\n",
    "cnx = mysql.connector.connect(\n",
    "    host='rm-uf6y5o92963p18ih72o.mysql.rds.aliyuncs.com',\n",
    "    port='3306',\n",
    "    user='u_dms_ro',\n",
    "    password='Eh5k2tTcZuNo'\n",
    ")\n",
    "\n",
    "# Create a cursor\n",
    "cursor = cnx.cursor()\n",
    "\n",
    "# Execute the SQL query\n",
    "sql = '''\n",
    "select pt.patient_id, pt.use_start_time, pt.drug_generic_name, pt.drug_goods_name\n",
    "from dw.patient_treatment pt where pt.parse_template_name = '免疫'\n",
    "'''\n",
    "cursor.execute(sql)\n",
    "\n",
    "# Fetch the column names\n",
    "df_treatment_columns = [column[0] for column in cursor.description]\n",
    "\n",
    "# Fetch the results\n",
    "df_treatment_rows = cursor.fetchall()\n",
    "df_treatment = pd.DataFrame(df_treatment_rows, columns=df_treatment_columns)\n",
    "print(df_treatment)\n",
    "\n",
    "# Close the cursor and connection\n",
    "cursor.close()\n",
    "cnx.close()\n"
   ]
  },
  {
   "cell_type": "markdown",
   "metadata": {},
   "source": [
    "# Check NA with for loop"
   ]
  },
  {
   "cell_type": "code",
   "execution_count": null,
   "metadata": {},
   "outputs": [],
   "source": [
    "for i in df.columns:\n",
    "  if df[i].isna().sum() != 0:\n",
    "    print('null values in', i, 'column :', df[i].isna().sum() ) "
   ]
  },
  {
   "cell_type": "markdown",
   "metadata": {},
   "source": [
    "# drop duplicate"
   ]
  },
  {
   "cell_type": "code",
   "execution_count": null,
   "metadata": {},
   "outputs": [],
   "source": [
    "df_assessment = df_assessment.sort_values('report_time', ascending=False).drop_duplicates(subset='patient_id', keep='first')"
   ]
  },
  {
   "cell_type": "markdown",
   "metadata": {},
   "source": [
    "# add column"
   ]
  },
  {
   "cell_type": "code",
   "execution_count": null,
   "metadata": {},
   "outputs": [],
   "source": [
    "#adding a new column\n",
    "titanic['new column']=(titanic['Age']*2)"
   ]
  },
  {
   "cell_type": "markdown",
   "metadata": {},
   "source": [
    "# sort values"
   ]
  },
  {
   "cell_type": "code",
   "execution_count": null,
   "metadata": {},
   "outputs": [],
   "source": [
    "#sort values\n",
    "titanic.sort_values(by='Ticket fee',ascending=False)"
   ]
  },
  {
   "cell_type": "markdown",
   "metadata": {},
   "source": [
    "# column contains specific string"
   ]
  },
  {
   "cell_type": "code",
   "execution_count": null,
   "metadata": {},
   "outputs": [],
   "source": [
    "#look for specific string\n",
    "titanic[titanic['Name'].str.contains('Thomas')]"
   ]
  },
  {
   "cell_type": "markdown",
   "metadata": {},
   "source": [
    "# reset index"
   ]
  },
  {
   "cell_type": "code",
   "execution_count": null,
   "metadata": {},
   "outputs": [],
   "source": [
    "#reset index\n",
    "\n",
    "filtered_titanic= titanic[titanic['Age']==30].reset_index(drop=True)"
   ]
  },
  {
   "cell_type": "markdown",
   "metadata": {},
   "source": [
    "# rearrange columns"
   ]
  },
  {
   "cell_type": "code",
   "execution_count": null,
   "metadata": {},
   "outputs": [],
   "source": [
    "# rearrange columns\n",
    "cols=list(merged_finish.columns.values)\n",
    "merged_finish_arranged=merged_finish[[cols[4]]+[cols[6]]+[cols[7]]+[cols[5]]+[cols[1]]+[cols[0]]+[cols[2]]+[cols[3]]+[cols[8]]]"
   ]
  },
  {
   "cell_type": "markdown",
   "metadata": {},
   "source": [
    "# Filtering Data"
   ]
  },
  {
   "cell_type": "code",
   "execution_count": null,
   "metadata": {},
   "outputs": [],
   "source": [
    "###Filtering Data\n",
    "\n",
    "#df.loc[(df['Type 1'] == 'Grass') & (df['Type 2'] == 'Poison')]\n",
    "\n",
    "#df.loc[(df['Type 1'] == 'Grass') | (df['Type 2'] == 'Poison')]\n",
    "\n",
    "#new_df= df.loc[(df['Type 1'] == 'Grass') & (df['Type 2'] == 'Poison')&(df['HP']>70)]"
   ]
  },
  {
   "cell_type": "code",
   "execution_count": null,
   "metadata": {},
   "outputs": [],
   "source": [
    "titanic[(titanic['Age']) >30&(titanic['Fare']<50)]"
   ]
  },
  {
   "cell_type": "code",
   "execution_count": null,
   "metadata": {},
   "outputs": [],
   "source": [
    "df['age_binary'] = df['age'].apply(lambda x: 1 if x > 65 else 0)"
   ]
  },
  {
   "cell_type": "markdown",
   "metadata": {},
   "source": [
    "# Replace"
   ]
  },
  {
   "cell_type": "code",
   "execution_count": null,
   "metadata": {},
   "outputs": [],
   "source": [
    "group_raw['现居地']=group_raw['现居地'].replace({'福建省': '其他省份','黑龙江省':'其他省份','山东省':'其他省份','河南省':'其他省份','四川省':'其他省份'\n",
    "                                           ,'甘肃省':'其他省份','湖南省':'其他省份','重庆':'其他省份'\n",
    "                                           ,'吉林省':'其他省份','陕西省':'其他省份','贵州省':'其他省份'\n",
    "                                           ,'云南省':'其他省份','北京':'其他省份','青海省':'其他省份'\n",
    "                                           ,'广东省':'其他省份','新疆':'其他省份','广西':'其他省份','宁夏':'其他省份'})"
   ]
  },
  {
   "cell_type": "markdown",
   "metadata": {},
   "source": [
    "# column rename"
   ]
  },
  {
   "cell_type": "code",
   "execution_count": null,
   "metadata": {},
   "outputs": [],
   "source": [
    "grouped = grouped.rename(columns = {'pathology_result' : '病理诊断'})"
   ]
  },
  {
   "cell_type": "markdown",
   "metadata": {},
   "source": [
    "# recode birthday to age "
   ]
  },
  {
   "cell_type": "code",
   "execution_count": null,
   "metadata": {},
   "outputs": [],
   "source": [
    "#recode birthday to age \n",
    "from datetime import datetime\n",
    "# Convert the 'BirthDate' column to datetime format\n",
    "recode['年龄'] = pd.to_datetime(recode['年龄'])\n",
    "\n",
    "# Calculate the current date\n",
    "current_date = pd.to_datetime(datetime.now().date())\n",
    "\n",
    "# Calculate the age by subtracting the birth dates from the current date\n",
    "recode['年龄'] = (current_date - recode['年龄']).astype('<m8[Y]')\n",
    "\n",
    "# Convert the 'Time' column to datetime\n",
    "recode['发起绑定时间'] = pd.to_datetime(recode['发起绑定时间'])\n",
    "\n",
    "# Extract the hour and minute parts from the datetime column\n",
    "recode['发起绑定时间'] = recode['发起绑定时间'].apply(lambda x: datetime.strftime(x, '%Y-%m-%d %H:%M'))"
   ]
  },
  {
   "cell_type": "markdown",
   "metadata": {},
   "source": [
    "# concat"
   ]
  },
  {
   "cell_type": "code",
   "execution_count": null,
   "metadata": {},
   "outputs": [],
   "source": [
    "#concat\n",
    "titanic= pd.read_csv('test.csv')\n",
    "\n",
    "data_to_add={'Pclass':[1]}\n",
    "addend=pd.DataFrame(columns=titanic.columns, data=data_to_add)\n",
    "addend\n",
    "pd.concat([titanic,addend])"
   ]
  },
  {
   "cell_type": "markdown",
   "metadata": {},
   "source": [
    "# merge\n"
   ]
  },
  {
   "cell_type": "code",
   "execution_count": null,
   "metadata": {},
   "outputs": [],
   "source": [
    "df_group_multi_immuno = pd.merge(df_group_multi_immuno, grouped, on=['patient_id'], how='left')"
   ]
  },
  {
   "cell_type": "code",
   "execution_count": null,
   "metadata": {},
   "outputs": [],
   "source": [
    "titanic.merge(extra_info,how='left',on='Pclass')"
   ]
  },
  {
   "cell_type": "markdown",
   "metadata": {},
   "source": [
    "# groupby"
   ]
  },
  {
   "cell_type": "code",
   "execution_count": null,
   "metadata": {},
   "outputs": [],
   "source": [
    "grouped = df_pathology.groupby(['patient_id']).agg({\n",
    "    'pathology_result': concatenate_unique}).reset_index()"
   ]
  },
  {
   "cell_type": "code",
   "execution_count": null,
   "metadata": {},
   "outputs": [],
   "source": [
    "df.groupby(['Type 1']).mean().sort_values('HP',ascending=False)"
   ]
  },
  {
   "cell_type": "code",
   "execution_count": null,
   "metadata": {},
   "outputs": [],
   "source": [
    "data.groupby(\"Agency\")[\"Salary Range From\"].agg([\"mean\", \"median\"])"
   ]
  },
  {
   "cell_type": "markdown",
   "metadata": {},
   "source": [
    "# pivot"
   ]
  },
  {
   "cell_type": "code",
   "execution_count": null,
   "metadata": {},
   "outputs": [],
   "source": [
    "#For each type 1, what was the mean of HP\n",
    "\n",
    "df.groupby('Type 1')['HP'].mean()\n",
    "\n",
    "#list the max\n",
    "df.pivot_table(index='Type 1',columns='Type 2',values='Total',aggfunc=max)"
   ]
  },
  {
   "cell_type": "code",
   "execution_count": null,
   "metadata": {},
   "outputs": [],
   "source": [
    "#list the mean\n",
    "df.pivot_table(index='Type 1',columns='Type 2',values='Total',aggfunc='mean')"
   ]
  },
  {
   "cell_type": "markdown",
   "metadata": {},
   "source": [
    "# mask the id card with astype"
   ]
  },
  {
   "cell_type": "code",
   "execution_count": null,
   "metadata": {},
   "outputs": [],
   "source": [
    "#mask the id card with astype\n",
    "recode['身份证'] = recode['身份证'].astype(str)\n",
    "recode['身份证'] = recode['身份证'].apply(lambda x: x[:6] + '*' * (len(x) - 10) + x[-4:] if isinstance(x, str) else x)\n"
   ]
  },
  {
   "cell_type": "markdown",
   "metadata": {},
   "source": [
    "# extact column name or values"
   ]
  },
  {
   "cell_type": "code",
   "execution_count": null,
   "metadata": {},
   "outputs": [],
   "source": [
    "import pandas as pd\n",
    "\n",
    "# Read data from the Excel file\n",
    "df = pd.read_excel('G:/我的云端硬盘/云蜚科技/新冠项目/预后研究/result_未住院.xlsx')\n",
    "\n",
    "# Choose the predictor variable for which you want to extract odds ratios\n",
    "selected_variable = 'Variable'  # Replace '年龄' with the column name of the desired predictor variable\n",
    "\n",
    "# Extract the odds ratios for the selected predictor variable and convert to a list\n",
    "odds_ratios = df[selected_variable].tolist()\n",
    "\n",
    "# Display the odds ratios\n",
    "print(odds_ratios)\n"
   ]
  },
  {
   "cell_type": "markdown",
   "metadata": {},
   "source": [
    "# To excel\n"
   ]
  },
  {
   "cell_type": "code",
   "execution_count": null,
   "metadata": {},
   "outputs": [],
   "source": [
    "group_sub.to_excel('group_prognosis.xlsx',index=False)"
   ]
  },
  {
   "cell_type": "code",
   "execution_count": null,
   "metadata": {},
   "outputs": [],
   "source": [
    "#export to excel file\n",
    "#df_group_multi_immuno.to_excel('immuno_raw.xlsx', encoding='utf-8', index=False)\n",
    "\n",
    "\n",
    "\n",
    "# Specify the output Excel file and encoding\n",
    "output_file = 'immuno_818.xlsx'\n",
    "encoding = 'utf-8'\n",
    "\n",
    "# Write the DataFrame to the Excel file with the specified encoding using openpyxl\n",
    "with pd.ExcelWriter(output_file, engine='openpyxl') as writer:\n",
    "    df_group_multi_immuno.to_excel(writer, index=False)\n",
    "    writer.book.encoding = encoding"
   ]
  },
  {
   "cell_type": "code",
   "execution_count": null,
   "metadata": {},
   "outputs": [],
   "source": [
    "recode.to_excel('王婧需求06292023.xlsx', encoding='utf-8', index=False)"
   ]
  }
 ],
 "metadata": {
  "language_info": {
   "name": "python"
  },
  "orig_nbformat": 4
 },
 "nbformat": 4,
 "nbformat_minor": 2
}
